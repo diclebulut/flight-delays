{
 "cells": [
  {
   "cell_type": "code",
   "execution_count": 1,
   "metadata": {},
   "outputs": [
    {
     "name": "stderr",
     "output_type": "stream",
     "text": [
      "c:\\Users\\u222152\\OneDrive - British Airways Plc\\Visa and Personal\\Personal Projects\\flight-delays\\modules\\inputs.py:5: DtypeWarning: Columns (7,8) have mixed types. Specify dtype option on import or set low_memory=False.\n",
      "  flights = pd.read_csv('Inputs/flights.csv')\n"
     ]
    }
   ],
   "source": [
    "import pandas as pd\n",
    "import modules as mod\n",
    "import importlib\n",
    "\n",
    "flights = mod.inputs.flights\n",
    "tail_numbers = mod.inputs.tail_numbers"
   ]
  },
  {
   "cell_type": "code",
   "execution_count": 2,
   "metadata": {},
   "outputs": [],
   "source": [
    "pd.set_option('display.max_columns', None)"
   ]
  },
  {
   "cell_type": "code",
   "execution_count": 3,
   "metadata": {},
   "outputs": [],
   "source": [
    "flights_with_models = flights.merge(tail_numbers, left_on='TAIL_NUMBER', right_on = 'Tail Number', how='left')"
   ]
  },
  {
   "cell_type": "code",
   "execution_count": 4,
   "metadata": {},
   "outputs": [],
   "source": [
    "flights_with_models = flights_with_models[flights_with_models['Aircraft Model'].notna()]"
   ]
  },
  {
   "cell_type": "code",
   "execution_count": 5,
   "metadata": {},
   "outputs": [],
   "source": [
    "flights_with_models = flights_with_models.drop(columns=['Tail Number'])\n",
    "flights_with_models = flights_with_models.rename(columns={'Aircraft Model': 'AIRCRAFT_MODEL'})"
   ]
  },
  {
   "cell_type": "code",
   "execution_count": 6,
   "metadata": {},
   "outputs": [],
   "source": [
    "sampled_flights = flights_with_models.groupby('AIRLINE', group_keys=False).apply(lambda x: x.sample(frac=0.05, random_state=42))"
   ]
  },
  {
   "cell_type": "code",
   "execution_count": 7,
   "metadata": {},
   "outputs": [
    {
     "data": {
      "text/plain": [
       "<module 'modules' from 'c:\\\\Users\\\\u222152\\\\OneDrive - British Airways Plc\\\\Visa and Personal\\\\Personal Projects\\\\flight-delays\\\\modules\\\\__init__.py'>"
      ]
     },
     "execution_count": 7,
     "metadata": {},
     "output_type": "execute_result"
    }
   ],
   "source": [
    "importlib.reload(mod)"
   ]
  },
  {
   "cell_type": "code",
   "execution_count": 7,
   "metadata": {},
   "outputs": [],
   "source": [
    "def preprocess_data(flight_data):\n",
    "    predictor = mod.models.FlightDelayPredictor(flight_data)\n",
    "    processed_data = predictor.preprocess_data()\n",
    "    return processed_data, predictor\n",
    "\n",
    "def run_models(predictor, target):\n",
    "\n",
    "    print(\"\\n\" + \"=\"*60)\n",
    "    print(f\"TRAINING MODELS FOR {target} PREDICTION\")\n",
    "    print(\"=\"*60)\n",
    "    results = predictor.train_models(target)\n",
    "\n",
    "    best_model_name, best_model = predictor.evaluate_best_model()\n",
    "    return results, best_model_name, best_model\n",
    "\n",
    "def run_hyperparameter_tuning(predictor, best_model_name):\n",
    "    print(f\"\\n\\nPerforming hyperparameter tuning for {best_model_name}...\")\n",
    "    tuned_model = predictor.hyperparameter_tuning(best_model_name)\n",
    "    return tuned_model"
   ]
  },
  {
   "cell_type": "code",
   "execution_count": 8,
   "metadata": {},
   "outputs": [
    {
     "name": "stdout",
     "output_type": "stream",
     "text": [
      "Starting data preprocessing...\n",
      "Data shape after preprocessing: (205878, 71)\n",
      "\n",
      "============================================================\n",
      "TRAINING MODELS FOR DEPARTURE_DELAYED PREDICTION\n",
      "============================================================\n",
      "Using 17 features for prediction\n",
      "Final feature matrix shape: (205878, 148)\n",
      "Target distribution: {0: 169482, 1: 36396}\n",
      "\n",
      "Training Logistic Regression...\n",
      "AUC Score: 0.6785\n",
      "CV Score: 0.6758 (+/- 0.0044)\n",
      "sum of importance: 10.502267817351473\n",
      "\n",
      "Top 20 Most Important Features:\n",
      "                           feature  importance\n",
      "6                   SCHEDULED_TIME    0.392077\n",
      "4         SCHEDULED_DEPARTURE_HOUR    0.382711\n",
      "7                         DISTANCE    0.364058\n",
      "1                     WEEK_OF_YEAR    0.282415\n",
      "58        ORIGIN_AIRPORT_top_Other    0.206888\n",
      "79   DESTINATION_AIRPORT_top_Other    0.195157\n",
      "27                       QUARTER_1    0.191740\n",
      "32                  AIRLINE_top_AS    0.185571\n",
      "16                         MONTH_9    0.175465\n",
      "34                  AIRLINE_top_DL    0.173635\n",
      "11                         MONTH_4    0.165563\n",
      "28                       QUARTER_2    0.157971\n",
      "128    AIRCRAFT_MODEL_top_A320-200    0.153441\n",
      "124               STATE_arr_top_UT    0.149905\n",
      "22                   DAY_OF_WEEK_3    0.148751\n",
      "38                  AIRLINE_top_OO    0.145692\n",
      "5           SCHEDULED_ARRIVAL_HOUR    0.144276\n",
      "129    AIRCRAFT_MODEL_top_A321-200    0.144113\n",
      "127       AIRCRAFT_MODEL_top_A319-    0.139696\n",
      "94                STATE_dep_top_MN    0.139319\n",
      "\n",
      "Training Random Forest...\n",
      "AUC Score: 0.7032\n",
      "CV Score: 0.6979 (+/- 0.0066)\n",
      "\n",
      "Aggregated Feature Importances:\n",
      "original_column\n",
      "DAY                         0.179348\n",
      "STATE                       0.133992\n",
      "SCHEDULED_TIME              0.089032\n",
      "DISTANCE                    0.082854\n",
      "SCHEDULED_DEPARTURE_HOUR    0.075019\n",
      "SCHEDULED_ARRIVAL_HOUR      0.071825\n",
      "WEEK_OF_YEAR                0.071301\n",
      "AIRCRAFT                    0.067267\n",
      "DESTINATION                 0.058252\n",
      "ORIGIN                      0.049720\n",
      "MONTH                       0.045322\n",
      "AIRLINE                     0.033777\n",
      "QUARTER                     0.019356\n",
      "IS_WEEKEND                  0.016470\n",
      "IS_HOLIDAY_SEASON           0.006467\n",
      "Name: importance, dtype: float64\n",
      "\n",
      "Training Gradient Boosting...\n",
      "AUC Score: 0.6984\n",
      "CV Score: 0.6994 (+/- 0.0048)\n",
      "\n",
      "Aggregated Feature Importances:\n",
      "original_column\n",
      "SCHEDULED_DEPARTURE_HOUR    0.346928\n",
      "WEEK_OF_YEAR                0.220148\n",
      "AIRLINE                     0.164686\n",
      "SCHEDULED_ARRIVAL_HOUR      0.086843\n",
      "DAY                         0.042620\n",
      "STATE                       0.032759\n",
      "MONTH                       0.032504\n",
      "AIRCRAFT                    0.031502\n",
      "ORIGIN                      0.013441\n",
      "DESTINATION                 0.010331\n",
      "IS_HOLIDAY_SEASON           0.008562\n",
      "SCHEDULED_TIME              0.004172\n",
      "DISTANCE                    0.003198\n",
      "QUARTER                     0.002307\n",
      "IS_WEEKEND                  0.000000\n",
      "Name: importance, dtype: float64\n",
      "\n",
      "Best Model: Gradient Boosting\n",
      "==================================================\n",
      "\n",
      "Classification Report:\n",
      "              precision    recall  f1-score   support\n",
      "\n",
      "           0       0.83      1.00      0.90     33897\n",
      "           1       0.64      0.02      0.04      7279\n",
      "\n",
      "    accuracy                           0.82     41176\n",
      "   macro avg       0.73      0.51      0.47     41176\n",
      "weighted avg       0.79      0.82      0.75     41176\n",
      "\n",
      "\n",
      "Confusion Matrix:\n",
      "[[33819    78]\n",
      " [ 7141   138]]\n",
      "\n",
      "Top 20 Most Important Features:\n",
      "                         feature  importance\n",
      "4       SCHEDULED_DEPARTURE_HOUR    0.346928\n",
      "1                   WEEK_OF_YEAR    0.220148\n",
      "5         SCHEDULED_ARRIVAL_HOUR    0.086843\n",
      "42                AIRLINE_top_WN    0.051246\n",
      "39                AIRLINE_top_UA    0.049628\n",
      "0                            DAY    0.027460\n",
      "131  AIRCRAFT_MODEL_top_B737-300    0.022105\n",
      "34                AIRLINE_top_DL    0.018846\n",
      "32                AIRLINE_top_AS    0.015461\n",
      "33                AIRLINE_top_B6    0.014126\n",
      "13                       MONTH_6    0.010284\n",
      "90              STATE_dep_top_IL    0.009289\n",
      "3              IS_HOLIDAY_SEASON    0.008562\n",
      "83   DESTINATION_AIRPORT_top_SFO    0.007675\n",
      "8                        MONTH_1    0.006872\n",
      "40                AIRLINE_top_US    0.005515\n",
      "24                 DAY_OF_WEEK_5    0.005464\n",
      "120             STATE_arr_top_NY    0.005290\n",
      "23                 DAY_OF_WEEK_4    0.004869\n",
      "38                AIRLINE_top_OO    0.004704\n"
     ]
    }
   ],
   "source": [
    "preprocessed_data, predictor = preprocess_data(sampled_flights)\n",
    "results, best_model_name, best_model = run_models(predictor, target='DEPARTURE_DELAYED')\n",
    "#tuned_model = run_hyperparameter_tuning(predictor, best_model_name)"
   ]
  }
 ],
 "metadata": {
  "kernelspec": {
   "display_name": "delays",
   "language": "python",
   "name": "python3"
  },
  "language_info": {
   "codemirror_mode": {
    "name": "ipython",
    "version": 3
   },
   "file_extension": ".py",
   "mimetype": "text/x-python",
   "name": "python",
   "nbconvert_exporter": "python",
   "pygments_lexer": "ipython3",
   "version": "3.8.10"
  }
 },
 "nbformat": 4,
 "nbformat_minor": 2
}
