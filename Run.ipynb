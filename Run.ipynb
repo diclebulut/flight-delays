{
 "cells": [
  {
   "cell_type": "code",
   "execution_count": null,
   "metadata": {},
   "outputs": [],
   "source": [
    "import pandas as pd\n",
    "import modules as mod\n",
    "import importlib\n",
    "\n",
    "flights = mod.inputs.flights"
   ]
  },
  {
   "cell_type": "code",
   "execution_count": null,
   "metadata": {},
   "outputs": [],
   "source": [
    "pd.set_option('display.max_columns', None)"
   ]
  },
  {
   "cell_type": "code",
   "execution_count": null,
   "metadata": {},
   "outputs": [],
   "source": [
    "sampled_flights = flights.groupby('AIRLINE', group_keys=False).apply(lambda x: x.sample(frac=0.05, random_state=42))"
   ]
  },
  {
   "cell_type": "code",
   "execution_count": null,
   "metadata": {},
   "outputs": [],
   "source": [
    "\"\"\"\"\"\n",
    "\n",
    "def run_delay_prediction_analysis(flight_data):\n",
    "\n",
    "    predictor = mod.models.FlightDelayPredictor(flight_data)\n",
    "\n",
    "    processed_data = predictor.preprocess_data()\n",
    "\n",
    "    print(\"\\n\" + \"=\"*60)\n",
    "    print(\"TRAINING MODELS FOR DEPARTURE DELAY PREDICTION\")\n",
    "    print(\"=\"*60)\n",
    "    results = predictor.train_models(target='ARRIVAL_DELAYED')\n",
    "\n",
    "    best_model_name, best_model = predictor.evaluate_best_model()\n",
    "    \n",
    "    print(f\"\\n\\nPerforming hyperparameter tuning for {best_model_name}...\")\n",
    "    tuned_model = predictor.hyperparameter_tuning(best_model_name)\n",
    "    \n",
    "    return predictor, results, tuned_model\n",
    "\n",
    "predictor, results, tuned_model = run_delay_prediction_analysis(sampled_flights)\n",
    "\n",
    "\"\"\""
   ]
  },
  {
   "cell_type": "code",
   "execution_count": null,
   "metadata": {},
   "outputs": [],
   "source": [
    "importlib.reload(mod)"
   ]
  },
  {
   "cell_type": "code",
   "execution_count": null,
   "metadata": {},
   "outputs": [],
   "source": [
    "def preprocess_data(flight_data):\n",
    "    predictor = mod.models.FlightDelayPredictor(flight_data)\n",
    "    processed_data = predictor.preprocess_data()\n",
    "    return processed_data, predictor\n",
    "\n",
    "def run_models(predictor, target='DEPARTURE_DELAYED'):\n",
    "\n",
    "    print(\"\\n\" + \"=\"*60)\n",
    "    print(f\"TRAINING MODELS FOR {target} PREDICTION\")\n",
    "    print(\"=\"*60)\n",
    "    results = predictor.train_models(target)\n",
    "\n",
    "    best_model_name, best_model = predictor.evaluate_best_model()\n",
    "    return results, best_model_name, best_model\n",
    "\n",
    "def run_hyperparameter_tuning(predictor, best_model_name):\n",
    "    print(f\"\\n\\nPerforming hyperparameter tuning for {best_model_name}...\")\n",
    "    tuned_model = predictor.hyperparameter_tuning(best_model_name)\n",
    "    return tuned_model"
   ]
  },
  {
   "cell_type": "code",
   "execution_count": null,
   "metadata": {},
   "outputs": [],
   "source": [
    "preprocessed_data, predictor = preprocess_data(sampled_flights)\n",
    "results, best_model_name, best_model = run_models(predictor)\n",
    "#tuned_model = run_hyperparameter_tuning(predictor, best_model_name)"
   ]
  }
 ],
 "metadata": {
  "kernelspec": {
   "display_name": "delays",
   "language": "python",
   "name": "python3"
  },
  "language_info": {
   "codemirror_mode": {
    "name": "ipython",
    "version": 3
   },
   "file_extension": ".py",
   "mimetype": "text/x-python",
   "name": "python",
   "nbconvert_exporter": "python",
   "pygments_lexer": "ipython3",
   "version": "3.8.10"
  }
 },
 "nbformat": 4,
 "nbformat_minor": 2
}
